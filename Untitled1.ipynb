{
  "nbformat": 4,
  "nbformat_minor": 0,
  "metadata": {
    "colab": {
      "name": "Untitled1.ipynb",
      "version": "0.3.2",
      "provenance": [],
      "collapsed_sections": [],
      "include_colab_link": true
    },
    "kernelspec": {
      "name": "python3",
      "display_name": "Python 3"
    },
    "accelerator": "GPU"
  },
  "cells": [
    {
      "cell_type": "markdown",
      "metadata": {
        "id": "view-in-github",
        "colab_type": "text"
      },
      "source": [
        "<a href=\"https://colab.research.google.com/github/Lonragon/jupyter-notebook/blob/master/Untitled1.ipynb\" target=\"_parent\"><img src=\"https://colab.research.google.com/assets/colab-badge.svg\" alt=\"Open In Colab\"/></a>"
      ]
    },
    {
      "cell_type": "code",
      "metadata": {
        "id": "ceWQikRBsiUR",
        "colab_type": "code",
        "outputId": "2f5ee6c1-e736-4427-c8aa-3fbc1ae07d8a",
        "colab": {
          "base_uri": "https://localhost:8080/",
          "height": 71
        }
      },
      "source": [
        "# 安装PyTorch库\n",
        "!pip3 install torch"
      ],
      "execution_count": 9,
      "outputs": [
        {
          "output_type": "stream",
          "text": [
            "Requirement already satisfied: torch in /usr/local/lib/python3.6/dist-packages (1.1.0)\n",
            "Requirement already satisfied: numpy in /usr/local/lib/python3.6/dist-packages (from torch) (1.16.3)\n"
          ],
          "name": "stdout"
        }
      ]
    },
    {
      "cell_type": "code",
      "metadata": {
        "id": "Thsf-mPqsuGm",
        "colab_type": "code",
        "colab": {}
      },
      "source": [
        "import numpy as np\n",
        "import torch"
      ],
      "execution_count": 0,
      "outputs": []
    },
    {
      "cell_type": "code",
      "metadata": {
        "id": "xnZRNmHVtP4M",
        "colab_type": "code",
        "outputId": "081559c6-d3aa-46e2-e4b2-3807d47f1a7a",
        "colab": {
          "base_uri": "https://localhost:8080/",
          "height": 119
        }
      },
      "source": [
        "#创建一个张量(Tensor)\n",
        "x=torch.Tensor(3,4)\n",
        "print(\"Type: {}\".format(x.type()))\n",
        "print(\"Size: {}\".format(x.shape))\n",
        "print(\"Values: \\n{}\".format(x))"
      ],
      "execution_count": 11,
      "outputs": [
        {
          "output_type": "stream",
          "text": [
            "Type: torch.FloatTensor\n",
            "Size: torch.Size([3, 4])\n",
            "Values: \n",
            "tensor([[3.2099e-36, 0.0000e+00, 4.4842e-44, 0.0000e+00],\n",
            "        [       nan, 8.7149e-04, 1.0859e-05, 4.2533e-05],\n",
            "        [5.2480e-08, 2.1253e-07, 4.3488e-05, 5.2947e+22]])\n"
          ],
          "name": "stdout"
        }
      ]
    },
    {
      "cell_type": "code",
      "metadata": {
        "id": "IiZ3b-XTtXU7",
        "colab_type": "code",
        "outputId": "b62ff783-502a-46ad-8e07-aac422f718b0",
        "colab": {
          "base_uri": "https://localhost:8080/",
          "height": 51
        }
      },
      "source": [
        "#随机张量\n",
        "x=torch.randn(2,3)#torch.randn对应于正态分布，而rand(2,3)对应于均匀分布\n",
        "print(x)"
      ],
      "execution_count": 12,
      "outputs": [
        {
          "output_type": "stream",
          "text": [
            "tensor([[ 2.9219, -1.3807,  0.3757],\n",
            "        [ 0.5243, -0.2860,  0.0715]])\n"
          ],
          "name": "stdout"
        }
      ]
    },
    {
      "cell_type": "code",
      "metadata": {
        "id": "WgvoSAZ5vCo8",
        "colab_type": "code",
        "colab": {
          "base_uri": "https://localhost:8080/",
          "height": 85
        },
        "outputId": "004f0bf7-886b-4746-f49d-2e1e1072e1c4"
      },
      "source": [
        "# 0和1张量\n",
        "x=torch.zeros(2,3)\n",
        "print(x)\n",
        "x=torch.ones(2,3)\n",
        "print(x)"
      ],
      "execution_count": 13,
      "outputs": [
        {
          "output_type": "stream",
          "text": [
            "tensor([[0., 0., 0.],\n",
            "        [0., 0., 0.]])\n",
            "tensor([[1., 1., 1.],\n",
            "        [1., 1., 1.]])\n"
          ],
          "name": "stdout"
        }
      ]
    },
    {
      "cell_type": "code",
      "metadata": {
        "id": "zNKakq44c2ju",
        "colab_type": "code",
        "colab": {
          "base_uri": "https://localhost:8080/",
          "height": 85
        },
        "outputId": "a8b3c92a-f4c9-4fb4-f308-37319f88c194"
      },
      "source": [
        "#列表(List) 张量\n",
        "x=torch.Tensor([[1,2,3],[4,5,6]])\n",
        "print(\"Size:{}\".format(x.shape))\n",
        "print(\"Values:\\n{}\".format(x))"
      ],
      "execution_count": 14,
      "outputs": [
        {
          "output_type": "stream",
          "text": [
            "Size:torch.Size([2, 3])\n",
            "Values:\n",
            "tensor([[1., 2., 3.],\n",
            "        [4., 5., 6.]])\n"
          ],
          "name": "stdout"
        }
      ]
    },
    {
      "cell_type": "code",
      "metadata": {
        "id": "gvdxMsyJq1fa",
        "colab_type": "code",
        "colab": {
          "base_uri": "https://localhost:8080/",
          "height": 85
        },
        "outputId": "bd768a76-8f6b-4a33-bc44-03d3c7624ae6"
      },
      "source": [
        "# Numpy 数组  张量\n",
        "x=torch.from_numpy(np.random.rand(2,3))\n",
        "print(\"Size:{}\".format(x.shape))\n",
        "print(\"Values: \\n{}\".format(x))\n"
      ],
      "execution_count": 15,
      "outputs": [
        {
          "output_type": "stream",
          "text": [
            "Size:torch.Size([2, 3])\n",
            "Values: \n",
            "tensor([[0.0470, 0.9555, 0.4099],\n",
            "        [0.7114, 0.7798, 0.4966]], dtype=torch.float64)\n"
          ],
          "name": "stdout"
        }
      ]
    },
    {
      "cell_type": "code",
      "metadata": {
        "id": "s7nFhMkWUYSE",
        "colab_type": "code",
        "colab": {
          "base_uri": "https://localhost:8080/",
          "height": 51
        },
        "outputId": "b30b440c-f4a4-445e-d0e6-31d8255837e1"
      },
      "source": [
        "# 改变张量类型（张量默认为float类型）\n",
        "x=torch.Tensor(3,4)\n",
        "print(\"Type:{}\".format(x.type()))\n",
        "x=x.long()\n",
        "print(\"Type:{}\".format(x.type()))"
      ],
      "execution_count": 16,
      "outputs": [
        {
          "output_type": "stream",
          "text": [
            "Type:torch.FloatTensor\n",
            "Type:torch.LongTensor\n"
          ],
          "name": "stdout"
        }
      ]
    },
    {
      "cell_type": "markdown",
      "metadata": {
        "id": "IG1v04D0aA-L",
        "colab_type": "text"
      },
      "source": [
        "# Tensor运算"
      ]
    },
    {
      "cell_type": "code",
      "metadata": {
        "id": "wuqzJ-1oaJvx",
        "colab_type": "code",
        "colab": {
          "base_uri": "https://localhost:8080/",
          "height": 85
        },
        "outputId": "c3b9af81-3beb-4bf7-a981-e30975516e0a"
      },
      "source": [
        "# 加法\n",
        "x=torch.randn(2,3)\n",
        "y=torch.randn(2,3)\n",
        "z=x+y\n",
        "print(\"Size:{}\".format(z.shape))\n",
        "print(\"Values:\\n{}\".format(z))"
      ],
      "execution_count": 17,
      "outputs": [
        {
          "output_type": "stream",
          "text": [
            "Size:torch.Size([2, 3])\n",
            "Values:\n",
            "tensor([[-2.2114,  0.1890,  0.0206],\n",
            "        [-0.1092,  1.0192,  1.1479]])\n"
          ],
          "name": "stdout"
        }
      ]
    },
    {
      "cell_type": "code",
      "metadata": {
        "id": "UHlLjUBkc2JN",
        "colab_type": "code",
        "colab": {
          "base_uri": "https://localhost:8080/",
          "height": 85
        },
        "outputId": "f27a272a-2f5c-40d8-a2fe-249ad6457bd1"
      },
      "source": [
        "#向量点积\n",
        "x=torch.randn(2,3)\n",
        "y=torch.randn(3,2)\n",
        "z=torch.mm(x,y)\n",
        "print(\"Size:{}\".format(z.shape))\n",
        "print(\"Values:\\n{}\".format(z))"
      ],
      "execution_count": 18,
      "outputs": [
        {
          "output_type": "stream",
          "text": [
            "Size:torch.Size([2, 2])\n",
            "Values:\n",
            "tensor([[ 4.3465,  1.0897],\n",
            "        [-1.5328, -0.2363]])\n"
          ],
          "name": "stdout"
        }
      ]
    },
    {
      "cell_type": "code",
      "metadata": {
        "id": "5OTnpkavhugp",
        "colab_type": "code",
        "colab": {
          "base_uri": "https://localhost:8080/",
          "height": 170
        },
        "outputId": "cda884a3-e7ba-4bd5-e18f-253a2a759079"
      },
      "source": [
        "#转置\n",
        "x=torch.randn(2,3)\n",
        "print(\"Size:{}\".format(x.shape))\n",
        "print(\"Values:\\n{}\".format(x))\n",
        "y=torch.t(x)\n",
        "print(\"Size:{}\".format(y.shape))\n",
        "print(\"Values:\\n{}\".format(y))"
      ],
      "execution_count": 19,
      "outputs": [
        {
          "output_type": "stream",
          "text": [
            "Size:torch.Size([2, 3])\n",
            "Values:\n",
            "tensor([[ 0.7518,  0.3088,  1.0525],\n",
            "        [ 0.2648,  0.7005, -1.2127]])\n",
            "Size:torch.Size([3, 2])\n",
            "Values:\n",
            "tensor([[ 0.7518,  0.2648],\n",
            "        [ 0.3088,  0.7005],\n",
            "        [ 1.0525, -1.2127]])\n"
          ],
          "name": "stdout"
        }
      ]
    },
    {
      "cell_type": "code",
      "metadata": {
        "id": "yAzGGJUCiiho",
        "colab_type": "code",
        "colab": {
          "base_uri": "https://localhost:8080/",
          "height": 289
        },
        "outputId": "70e7b40d-d6d9-48c9-e43a-b687afe2558d"
      },
      "source": [
        "#reshaping的危险（意外后果）\n",
        "x=torch.tensor([\n",
        "    [[1,1,1,1],[2,2,2,2],[3,3,3,3]],\n",
        "    [[10,10,10,10],[20,20,20,20],[30,30,30,30]]\n",
        "])\n",
        "print(\"Size:{}\".format(x.shape))\n",
        "print(\"Values:\\n{}\\n\".format(x))\n",
        "a=x.view(x.size(1),-1)\n",
        "print(\"Size:{}\".format(a.shape))\n",
        "print(\"Values:\\n{}\\n\".format(a))\n",
        "\n",
        "\n"
      ],
      "execution_count": 20,
      "outputs": [
        {
          "output_type": "stream",
          "text": [
            "Size:torch.Size([2, 3, 4])\n",
            "Values:\n",
            "tensor([[[ 1,  1,  1,  1],\n",
            "         [ 2,  2,  2,  2],\n",
            "         [ 3,  3,  3,  3]],\n",
            "\n",
            "        [[10, 10, 10, 10],\n",
            "         [20, 20, 20, 20],\n",
            "         [30, 30, 30, 30]]])\n",
            "\n",
            "Size:torch.Size([3, 8])\n",
            "Values:\n",
            "tensor([[ 1,  1,  1,  1,  2,  2,  2,  2],\n",
            "        [ 3,  3,  3,  3, 10, 10, 10, 10],\n",
            "        [20, 20, 20, 20, 30, 30, 30, 30]])\n",
            "\n"
          ],
          "name": "stdout"
        }
      ]
    },
    {
      "cell_type": "code",
      "metadata": {
        "id": "Cl8lBo2JkCVQ",
        "colab_type": "code",
        "colab": {
          "base_uri": "https://localhost:8080/",
          "height": 136
        },
        "outputId": "d34a474e-c5d9-435f-9a23-150d5439c436"
      },
      "source": [
        "# 维度操作\n",
        "x=torch.randn(2,3)\n",
        "print(\"Values:\\n{}\".format(x))\n",
        "y=torch.sum(x,dim=0) #为每列添加各行叠加的值\n",
        "print(\"Values:\\n{}\".format(y))\n",
        "z=torch.sum(x,dim=1) #为每行添加各列叠加的值\n",
        "print(\"Values:\\n{}\".format(z))"
      ],
      "execution_count": 21,
      "outputs": [
        {
          "output_type": "stream",
          "text": [
            "Values:\n",
            "tensor([[-1.3735, -1.2227,  0.4307],\n",
            "        [ 0.3677, -0.6624,  0.8767]])\n",
            "Values:\n",
            "tensor([-1.0059, -1.8851,  1.3074])\n",
            "Values:\n",
            "tensor([-2.1655,  0.5820])\n"
          ],
          "name": "stdout"
        }
      ]
    },
    {
      "cell_type": "markdown",
      "metadata": {
        "id": "5wnjd0Mjqb1h",
        "colab_type": "text"
      },
      "source": [
        "#索引，切片和级联"
      ]
    },
    {
      "cell_type": "code",
      "metadata": {
        "id": "G6uIx5-DpVhk",
        "colab_type": "code",
        "colab": {
          "base_uri": "https://localhost:8080/",
          "height": 153
        },
        "outputId": "018192ef-0c17-4bb3-e3e1-42bd674feb85"
      },
      "source": [
        "x=torch.randn(3,4)\n",
        "print(\"x: \\n{}\".format(x))\n",
        "print(\"x[:1]:\\n{}\".format(x[:1])) #第一行\n",
        "print(\"x[:1,1:3]: \\n{}\".format(x[:1,1:3]))"
      ],
      "execution_count": 22,
      "outputs": [
        {
          "output_type": "stream",
          "text": [
            "x: \n",
            "tensor([[-0.0602,  0.0884,  0.2096, -1.4898],\n",
            "        [-0.8993,  1.5338, -0.6471,  0.6403],\n",
            "        [ 0.9482, -1.2516, -0.3231, -1.7944]])\n",
            "x[:1]:\n",
            "tensor([[-0.0602,  0.0884,  0.2096, -1.4898]])\n",
            "x[:1,1:3]: \n",
            "tensor([[0.0884, 0.2096]])\n"
          ],
          "name": "stdout"
        }
      ]
    },
    {
      "cell_type": "code",
      "metadata": {
        "id": "QcbBspDXrjha",
        "colab_type": "code",
        "colab": {
          "base_uri": "https://localhost:8080/",
          "height": 153
        },
        "outputId": "d01c5bc5-64dd-4b69-904a-160ac547d3c1"
      },
      "source": [
        "# 选择维度索引\n",
        "x=torch.randn(2,3)\n",
        "print(\"Values: \\n{}\".format(x))\n",
        "col_indices=torch.LongTensor([0,2])\n",
        "chosen=torch.index_select(x,dim=1,index=col_indices) #第0和第2列的值\n",
        "print(\"Values: \\n{}\".format(chosen))\n",
        "row_indices=torch.LongTensor([0,1])\n",
        "chosen=x[row_indices,col_indices]#来自(0,0)和（2，1）的值\n",
        "print(\"Values:\\n{}\".format(chosen))\n",
        "\n"
      ],
      "execution_count": 23,
      "outputs": [
        {
          "output_type": "stream",
          "text": [
            "Values: \n",
            "tensor([[-1.1271, -1.5984, -0.0230],\n",
            "        [-0.5459,  0.6236,  0.5389]])\n",
            "Values: \n",
            "tensor([[-1.1271, -0.0230],\n",
            "        [-0.5459,  0.5389]])\n",
            "Values:\n",
            "tensor([-1.1271,  0.5389])\n"
          ],
          "name": "stdout"
        }
      ]
    },
    {
      "cell_type": "code",
      "metadata": {
        "id": "sZIafJwXfwP-",
        "colab_type": "code",
        "colab": {
          "base_uri": "https://localhost:8080/",
          "height": 153
        },
        "outputId": "651cdcb3-1d8e-47ee-dc50-6efe5bfe8741"
      },
      "source": [
        "#级联\n",
        "x=torch.randn(2,3)\n",
        "print(\"Values: \\n{}\".format(x))\n",
        "y=torch.cat([x,x],dim=0) #按行堆叠（dim=1按列堆叠）\n",
        "print(\"Values: \\n{}\".format(y))"
      ],
      "execution_count": 24,
      "outputs": [
        {
          "output_type": "stream",
          "text": [
            "Values: \n",
            "tensor([[-0.1771,  0.8825, -1.3420],\n",
            "        [-0.6789, -0.0376,  0.4706]])\n",
            "Values: \n",
            "tensor([[-0.1771,  0.8825, -1.3420],\n",
            "        [-0.6789, -0.0376,  0.4706],\n",
            "        [-0.1771,  0.8825, -1.3420],\n",
            "        [-0.6789, -0.0376,  0.4706]])\n"
          ],
          "name": "stdout"
        }
      ]
    },
    {
      "cell_type": "code",
      "metadata": {
        "id": "Rrrxg99aUESA",
        "colab_type": "code",
        "colab": {}
      },
      "source": [
        ""
      ],
      "execution_count": 0,
      "outputs": []
    },
    {
      "cell_type": "markdown",
      "metadata": {
        "id": "mZtZF-H0WoX7",
        "colab_type": "text"
      },
      "source": [
        "# 梯度"
      ]
    },
    {
      "cell_type": "code",
      "metadata": {
        "id": "q9KMUf6hWrgT",
        "colab_type": "code",
        "colab": {
          "base_uri": "https://localhost:8080/",
          "height": 153
        },
        "outputId": "7b9e56b0-41ed-4d44-b490-852322e0e1ad"
      },
      "source": [
        "# 带有gradient bookkeeping的张量\n",
        "x=torch.rand(3,4,requires_grad=True)\n",
        "y=3*x+2\n",
        "z=y.mean()\n",
        "z.backward() #z是标量\n",
        "print(\"Vlaues: \\n{}\".format(x))\n",
        "print(\"x.grad: \\n\",x.grad)"
      ],
      "execution_count": 25,
      "outputs": [
        {
          "output_type": "stream",
          "text": [
            "Vlaues: \n",
            "tensor([[0.7050, 0.4279, 0.7500, 0.4412],\n",
            "        [0.1401, 0.1836, 0.7464, 0.7222],\n",
            "        [0.4941, 0.7128, 0.8577, 0.3446]], requires_grad=True)\n",
            "x.grad: \n",
            " tensor([[0.2500, 0.2500, 0.2500, 0.2500],\n",
            "        [0.2500, 0.2500, 0.2500, 0.2500],\n",
            "        [0.2500, 0.2500, 0.2500, 0.2500]])\n"
          ],
          "name": "stdout"
        }
      ]
    },
    {
      "cell_type": "code",
      "metadata": {
        "id": "iJl6mkM7XoUm",
        "colab_type": "code",
        "colab": {}
      },
      "source": [
        ""
      ],
      "execution_count": 0,
      "outputs": []
    },
    {
      "cell_type": "markdown",
      "metadata": {
        "id": "eVjd8945YI3i",
        "colab_type": "text"
      },
      "source": [
        "# CUDA 张量\n"
      ]
    },
    {
      "cell_type": "code",
      "metadata": {
        "id": "HtkoxH8cYOA5",
        "colab_type": "code",
        "colab": {
          "base_uri": "https://localhost:8080/",
          "height": 34
        },
        "outputId": "8e7f5ac9-ae5d-404a-f1bb-97840be3b936"
      },
      "source": [
        "# 检查CUDA是否可用？\n",
        "print(torch.cuda.is_available())"
      ],
      "execution_count": 26,
      "outputs": [
        {
          "output_type": "stream",
          "text": [
            "True\n"
          ],
          "name": "stdout"
        }
      ]
    },
    {
      "cell_type": "code",
      "metadata": {
        "id": "ySePO4acZ-r9",
        "colab_type": "code",
        "colab": {}
      },
      "source": [
        ""
      ],
      "execution_count": 0,
      "outputs": []
    },
    {
      "cell_type": "markdown",
      "metadata": {
        "id": "rJPO_IT1aFSz",
        "colab_type": "text"
      },
      "source": [
        "### 返回false,转到菜单栏上的runtime---change runtime type 在hardware accelerator下选择GPU."
      ]
    },
    {
      "cell_type": "code",
      "metadata": {
        "id": "hLi02iP4aa3n",
        "colab_type": "code",
        "colab": {
          "base_uri": "https://localhost:8080/",
          "height": 34
        },
        "outputId": "526554b1-7faf-423a-c8d8-4c16418af276"
      },
      "source": [
        "# 检查CUDA是否可用？\n",
        "print(torch.cuda.is_available())\n",
        "\n"
      ],
      "execution_count": 27,
      "outputs": [
        {
          "output_type": "stream",
          "text": [
            "True\n"
          ],
          "name": "stdout"
        }
      ]
    },
    {
      "cell_type": "code",
      "metadata": {
        "id": "3MJS1dRZahp0",
        "colab_type": "code",
        "colab": {
          "base_uri": "https://localhost:8080/",
          "height": 34
        },
        "outputId": "29e84d8d-1bad-4dfb-f62d-c8b2e0c39fb2"
      },
      "source": [
        "#创建一个CPU版的0张量\n",
        "x = torch.Tensor(3, 4).to(\"cpu\")  #注意小写\n",
        "print(\"Type: {}\".format(x.type()))"
      ],
      "execution_count": 31,
      "outputs": [
        {
          "output_type": "stream",
          "text": [
            "Type: torch.FloatTensor\n"
          ],
          "name": "stdout"
        }
      ]
    },
    {
      "cell_type": "code",
      "metadata": {
        "id": "WuIL-GcpbTWL",
        "colab_type": "code",
        "colab": {
          "base_uri": "https://localhost:8080/",
          "height": 34
        },
        "outputId": "0846c993-0050-4bb8-e160-171fd9c11655"
      },
      "source": [
        "# 创建一个CUDA版的0张量\n",
        "x = torch.Tensor(3, 4).to(\"cuda\")\n",
        "print(\"Type: {}\".format(x.type()))"
      ],
      "execution_count": 32,
      "outputs": [
        {
          "output_type": "stream",
          "text": [
            "Type: torch.cuda.FloatTensor\n"
          ],
          "name": "stdout"
        }
      ]
    },
    {
      "cell_type": "code",
      "metadata": {
        "id": "hUxvEbKAbr2L",
        "colab_type": "code",
        "colab": {}
      },
      "source": [
        ""
      ],
      "execution_count": 0,
      "outputs": []
    }
  ]
}