{
  "nbformat": 4,
  "nbformat_minor": 0,
  "metadata": {
    "colab": {
      "name": "Untitled1.ipynb",
      "version": "0.3.2",
      "provenance": [],
      "include_colab_link": true
    },
    "kernelspec": {
      "name": "python3",
      "display_name": "Python 3"
    }
  },
  "cells": [
    {
      "cell_type": "markdown",
      "metadata": {
        "id": "view-in-github",
        "colab_type": "text"
      },
      "source": [
        "<a href=\"https://colab.research.google.com/github/Lonragon/jupyter-notebook/blob/master/Untitled1.ipynb\" target=\"_parent\"><img src=\"https://colab.research.google.com/assets/colab-badge.svg\" alt=\"Open In Colab\"/></a>"
      ]
    },
    {
      "cell_type": "code",
      "metadata": {
        "id": "ceWQikRBsiUR",
        "colab_type": "code",
        "colab": {
          "base_uri": "https://localhost:8080/",
          "height": 53
        },
        "outputId": "57912a65-e4f6-4044-f233-32024243b23b"
      },
      "source": [
        "# 安装PyTorch库\n",
        "!pip3 install torch"
      ],
      "execution_count": 2,
      "outputs": [
        {
          "output_type": "stream",
          "text": [
            "Requirement already satisfied: torch in /usr/local/lib/python3.6/dist-packages (1.1.0)\n",
            "Requirement already satisfied: numpy in /usr/local/lib/python3.6/dist-packages (from torch) (1.16.3)\n"
          ],
          "name": "stdout"
        }
      ]
    },
    {
      "cell_type": "code",
      "metadata": {
        "id": "Thsf-mPqsuGm",
        "colab_type": "code",
        "colab": {}
      },
      "source": [
        "import numpy as np\n",
        "import torch"
      ],
      "execution_count": 0,
      "outputs": []
    },
    {
      "cell_type": "code",
      "metadata": {
        "id": "xnZRNmHVtP4M",
        "colab_type": "code",
        "colab": {
          "base_uri": "https://localhost:8080/",
          "height": 125
        },
        "outputId": "196cd36c-a7ef-40f4-d330-b3592112b0dc"
      },
      "source": [
        "#创建一个张量(Tensor)\n",
        "x=torch.Tensor(3,4)\n",
        "print(\"Type: {}\".format(x.type()))\n",
        "print(\"Size: {}\".format(x.shape))\n",
        "print(\"Values: \\n{}\".format(x))"
      ],
      "execution_count": 5,
      "outputs": [
        {
          "output_type": "stream",
          "text": [
            "Type: torch.FloatTensor\n",
            "Size: torch.Size([3, 4])\n",
            "Values: \n",
            "tensor([[6.2534e-36, 0.0000e+00, 3.7835e-44, 0.0000e+00],\n",
            "        [       nan, 0.0000e+00, 1.3733e-14, 6.4069e+02],\n",
            "        [4.3066e+21, 1.1824e+22, 4.3066e+21, 6.3828e+28]])\n"
          ],
          "name": "stdout"
        }
      ]
    },
    {
      "cell_type": "code",
      "metadata": {
        "id": "IiZ3b-XTtXU7",
        "colab_type": "code",
        "colab": {
          "base_uri": "https://localhost:8080/",
          "height": 53
        },
        "outputId": "c97d84e4-dbd3-4977-beac-57b847d45d32"
      },
      "source": [
        "#随机张量\n",
        "x=torch.randn(2,3)#torch.randn对应于正态分布，而rand(2,3)对应于均匀分布\n",
        "print(x)"
      ],
      "execution_count": 6,
      "outputs": [
        {
          "output_type": "stream",
          "text": [
            "tensor([[0.3219, 0.4910, 1.5344],\n",
            "        [0.8187, 1.0742, 0.1276]])\n"
          ],
          "name": "stdout"
        }
      ]
    },
    {
      "cell_type": "code",
      "metadata": {
        "id": "WgvoSAZ5vCo8",
        "colab_type": "code",
        "colab": {}
      },
      "source": [
        ""
      ],
      "execution_count": 0,
      "outputs": []
    }
  ]
}